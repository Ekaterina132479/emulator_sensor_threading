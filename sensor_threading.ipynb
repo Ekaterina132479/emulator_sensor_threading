{
 "cells": [
  {
   "cell_type": "code",
   "execution_count": 7,
   "id": "7741c4f3-478f-4ca5-aafe-3a550a43520b",
   "metadata": {},
   "outputs": [],
   "source": [
    "import random      #библиотека для генерации случайных значений\n",
    "import datetime    #библиотека для работы с датой и временем\n",
    "import time        #библиотека для задержки времени\n",
    "import threading   #библиотека для работы с потоками"
   ]
  },
  {
   "cell_type": "code",
   "execution_count": 8,
   "id": "b4bb6eec-1cef-41e7-82f8-ddb88026d17b",
   "metadata": {},
   "outputs": [],
   "source": [
    "#функция sensor_emulator принимает на вход название метрики, диапазон значений для генерации и единицу измерения\n",
    "def sensor_emulator(metric_name, metric_range, metric_unit):\n",
    "    #время начала работы эмулятора\n",
    "    start_time = datetime.datetime.now()     \n",
    "    #время окончания работы эмулятора\n",
    "    end_time = start_time + datetime.timedelta(minutes=3)    \n",
    "\n",
    "    #создание общего файла для записи данных\n",
    "    with open(\"sensor_data.txt\", \"a\") as file:\n",
    "        #создание блокировки для безопасного доступа к файлу\n",
    "        lock = threading.Lock()\n",
    "        \n",
    "        #цикл выполняется, пока текущее время меньше времени окончания \n",
    "        while datetime.datetime.now() < end_time:\n",
    "            #создание пустого списка\n",
    "            sensor_values = []\n",
    "            #генерация 60 случайных значений и их запись в список\n",
    "            for _ in range(60):\n",
    "                #генерация случайных значений в заданном промежутке\n",
    "                value = random.uniform(metric_range[0], metric_range[1])\n",
    "                #запись значения в список\n",
    "                sensor_values.append(value)\n",
    "                time.sleep(1)\n",
    "\n",
    "            # Вычисление среднего значения метрики за 1 минуту\n",
    "            avg_value = sum(sensor_values) / 60\n",
    "            # Время окончания работы эмулятора\n",
    "            current_time = datetime.datetime.now()\n",
    "            \n",
    "            # Блокировка доступа к файлу\n",
    "            with lock:\n",
    "                # Запись в файл времени окончания работы эмулятора, имени метрики, значения и единицы измерения\n",
    "                file.write(f\"{current_time}, {metric_name}, {avg_value:.2f} {metric_unit}\\n\")\n",
    "    \n",
    "    print(f\" sensor '{metric_name}' done\")"
   ]
  },
  {
   "cell_type": "code",
   "execution_count": 9,
   "id": "82b541e3-7f55-4583-9b48-3a21412ed450",
   "metadata": {},
   "outputs": [
    {
     "name": "stdout",
     "output_type": "stream",
     "text": [
      " sensor 'temperature' done\n",
      " sensor 'air_quality' done\n",
      " sensor 'humidity' done\n"
     ]
    }
   ],
   "source": [
    "# Создание и запуск нескольких потоков для эмуляции разных датчиков\n",
    "threads = []\n",
    "for metric in [\"temperature\", \"humidity\", \"air_quality\"]:\n",
    "    thread = threading.Thread(target=sensor_emulator, args=(metric, (-20, 40), \"°C\" if metric == \"temperature\" else (\"%\" if metric == \"humidity\" else \"ppm\")))\n",
    "    threads.append(thread)\n",
    "    thread.start()\n",
    "\n"
   ]
  },
  {
   "cell_type": "code",
   "execution_count": 10,
   "id": "75393b37-df6d-4310-b0e4-28e8f3be1f35",
   "metadata": {},
   "outputs": [],
   "source": [
    "# Ожидание завершения работы всех потоков\n",
    "for thread in threads:\n",
    "    thread.join()"
   ]
  },
  {
   "cell_type": "code",
   "execution_count": null,
   "id": "51062891-59ed-4a77-977c-be8cd2bb1095",
   "metadata": {},
   "outputs": [],
   "source": []
  }
 ],
 "metadata": {
  "kernelspec": {
   "display_name": "Python 3 (ipykernel)",
   "language": "python",
   "name": "python3"
  },
  "language_info": {
   "codemirror_mode": {
    "name": "ipython",
    "version": 3
   },
   "file_extension": ".py",
   "mimetype": "text/x-python",
   "name": "python",
   "nbconvert_exporter": "python",
   "pygments_lexer": "ipython3",
   "version": "3.11.5"
  }
 },
 "nbformat": 4,
 "nbformat_minor": 5
}
